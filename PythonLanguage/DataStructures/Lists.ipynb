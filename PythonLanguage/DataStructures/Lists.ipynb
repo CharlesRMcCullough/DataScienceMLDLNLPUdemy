{
 "cells": [
  {
   "metadata": {},
   "cell_type": "markdown",
   "source": "## Lists",
   "id": "50c49c45f185bb26"
  },
  {
   "metadata": {
    "ExecuteTime": {
     "end_time": "2024-11-17T15:51:16.650038Z",
     "start_time": "2024-11-17T15:51:16.645009Z"
    }
   },
   "cell_type": "code",
   "source": [
    "list=[]\n",
    "print(type(list))"
   ],
   "id": "1b8acd5a9a7334b7",
   "outputs": [
    {
     "name": "stdout",
     "output_type": "stream",
     "text": [
      "<class 'list'>\n"
     ]
    }
   ],
   "execution_count": 2
  },
  {
   "metadata": {
    "ExecuteTime": {
     "end_time": "2024-11-17T15:52:44.529131Z",
     "start_time": "2024-11-17T15:52:44.525128Z"
    }
   },
   "cell_type": "code",
   "source": [
    "names=[\"Riley\", \"Frank\", \"Emma\", \"Charles\"]\n",
    "print(names)"
   ],
   "id": "cce5466f113f47d7",
   "outputs": [
    {
     "name": "stdout",
     "output_type": "stream",
     "text": [
      "['Riley', 'Frank', 'Emma', 'Charles']\n"
     ]
    }
   ],
   "execution_count": 3
  },
  {
   "metadata": {
    "ExecuteTime": {
     "end_time": "2024-11-17T15:54:38.097961Z",
     "start_time": "2024-11-17T15:54:38.093409Z"
    }
   },
   "cell_type": "code",
   "source": [
    "mixed_list = [\"Charles\", 2, 3.14, True]\n",
    "print(mixed_list)"
   ],
   "id": "e0d28ab39ac03",
   "outputs": [
    {
     "name": "stdout",
     "output_type": "stream",
     "text": [
      "['Charles', 2, 3.14, True]\n"
     ]
    }
   ],
   "execution_count": 4
  },
  {
   "metadata": {},
   "cell_type": "markdown",
   "source": "### Accessing Lists",
   "id": "8535ad8b4b3d269e"
  },
  {
   "metadata": {
    "ExecuteTime": {
     "end_time": "2024-11-17T16:11:09.217039Z",
     "start_time": "2024-11-17T16:11:09.211953Z"
    }
   },
   "cell_type": "code",
   "source": [
    "fruits=[\"apple\", \"banana\", \"cherry\", \"kiwi\"]\n",
    "print(fruits[0])\n",
    "print(fruits[1])\n",
    "print(fruits[-1]) # last element in list"
   ],
   "id": "bce4b5b0c9f79a10",
   "outputs": [
    {
     "name": "stdout",
     "output_type": "stream",
     "text": [
      "apple\n",
      "banana\n",
      "kiwi\n"
     ]
    }
   ],
   "execution_count": 7
  },
  {
   "metadata": {},
   "cell_type": "markdown",
   "source": "### Range",
   "id": "c4fd09bb5eb4b826"
  },
  {
   "metadata": {
    "ExecuteTime": {
     "end_time": "2024-11-17T16:19:50.707668Z",
     "start_time": "2024-11-17T16:19:50.702243Z"
    }
   },
   "cell_type": "code",
   "source": [
    "print(fruits[1:])\n",
    "print(fruits[1:3])\n",
    "print(fruits[:2])\n",
    "print(fruits[::2])"
   ],
   "id": "149b184cdff885d4",
   "outputs": [
    {
     "name": "stdout",
     "output_type": "stream",
     "text": [
      "['banana', 'cherry', 'kiwi']\n",
      "['banana', 'cherry']\n",
      "['apple', 'banana']\n",
      "['apple', 'cherry']\n"
     ]
    }
   ],
   "execution_count": 12
  },
  {
   "metadata": {},
   "cell_type": "markdown",
   "source": "### Modify List Elements",
   "id": "b499c9d6caeda650"
  },
  {
   "metadata": {
    "ExecuteTime": {
     "end_time": "2024-11-17T16:25:13.948264Z",
     "start_time": "2024-11-17T16:25:13.944230Z"
    }
   },
   "cell_type": "code",
   "source": [
    "fruits[1] = \"Watermelon\"\n",
    "print(fruits)"
   ],
   "id": "7e15d98ab6241bc6",
   "outputs": [
    {
     "name": "stdout",
     "output_type": "stream",
     "text": [
      "['apple', 'Watermelon', 'cherry', 'kiwi']\n"
     ]
    }
   ],
   "execution_count": 13
  },
  {
   "metadata": {},
   "cell_type": "markdown",
   "source": "### List methods",
   "id": "97deabe5a3f341d4"
  },
  {
   "metadata": {
    "ExecuteTime": {
     "end_time": "2024-11-17T16:28:13.992415Z",
     "start_time": "2024-11-17T16:28:13.988395Z"
    }
   },
   "cell_type": "code",
   "source": [
    "fruits.append(\"orange\") # add item to end\n",
    "print(fruits)"
   ],
   "id": "60a53b688941cd60",
   "outputs": [
    {
     "name": "stdout",
     "output_type": "stream",
     "text": [
      "['apple', 'Watermelon', 'cherry', 'kiwi', 'orange']\n"
     ]
    }
   ],
   "execution_count": 14
  },
  {
   "metadata": {
    "ExecuteTime": {
     "end_time": "2024-11-17T16:42:44.987752Z",
     "start_time": "2024-11-17T16:42:44.982813Z"
    }
   },
   "cell_type": "code",
   "source": [
    "fruits.insert(1, \"pair\")\n",
    "print(fruits)"
   ],
   "id": "da3d04a12bbbca67",
   "outputs": [
    {
     "name": "stdout",
     "output_type": "stream",
     "text": [
      "['apple', 'pair', 'pair', 'Watermelon', 'cherry', 'kiwi', 'orange']\n"
     ]
    }
   ],
   "execution_count": 20
  },
  {
   "metadata": {
    "ExecuteTime": {
     "end_time": "2024-11-17T16:43:32.922284Z",
     "start_time": "2024-11-17T16:43:32.917203Z"
    }
   },
   "cell_type": "code",
   "source": [
    "fruits.remove(\"pair\")\n",
    "print(fruits)"
   ],
   "id": "4353563d5727f9a1",
   "outputs": [
    {
     "name": "stdout",
     "output_type": "stream",
     "text": [
      "['apple', 'pair', 'Watermelon', 'cherry', 'kiwi', 'orange']\n"
     ]
    }
   ],
   "execution_count": 21
  },
  {
   "metadata": {
    "ExecuteTime": {
     "end_time": "2024-11-17T16:45:53.713977Z",
     "start_time": "2024-11-17T16:45:53.710035Z"
    }
   },
   "cell_type": "code",
   "source": [
    "popped_fruits=fruits.pop() # Remove and return last element\n",
    "print(popped_fruits)"
   ],
   "id": "9696d7174e5935b9",
   "outputs": [
    {
     "name": "stdout",
     "output_type": "stream",
     "text": [
      "orange\n"
     ]
    }
   ],
   "execution_count": 22
  },
  {
   "metadata": {
    "ExecuteTime": {
     "end_time": "2024-11-17T16:48:50.169498Z",
     "start_time": "2024-11-17T16:48:50.164385Z"
    }
   },
   "cell_type": "code",
   "source": [
    "print(fruits)\n",
    "index = fruits.index(\"pair\")\n",
    "print(index)\n",
    "index = fruits.index(\"kiwi\")\n",
    "print(index)"
   ],
   "id": "2917b9d1a7ba7b81",
   "outputs": [
    {
     "name": "stdout",
     "output_type": "stream",
     "text": [
      "['apple', 'pair', 'Watermelon', 'cherry', 'kiwi']\n",
      "1\n",
      "4\n"
     ]
    }
   ],
   "execution_count": 25
  },
  {
   "metadata": {
    "ExecuteTime": {
     "end_time": "2024-11-17T16:50:57.563834Z",
     "start_time": "2024-11-17T16:50:57.559565Z"
    }
   },
   "cell_type": "code",
   "source": [
    "fruits.insert(-1, \"pair\")\n",
    "print(fruits)\n",
    "print(fruits.count(\"pair\"))"
   ],
   "id": "253a668520e75d5d",
   "outputs": [
    {
     "name": "stdout",
     "output_type": "stream",
     "text": [
      "['apple', 'pair', 'Watermelon', 'cherry', 'pair', 'kiwi']\n",
      "2\n"
     ]
    }
   ],
   "execution_count": 26
  },
  {
   "metadata": {},
   "cell_type": "markdown",
   "source": "### Sorting",
   "id": "dcffaa8a51f590f1"
  },
  {
   "metadata": {
    "ExecuteTime": {
     "end_time": "2024-11-17T16:55:27.640423Z",
     "start_time": "2024-11-17T16:55:27.636671Z"
    }
   },
   "cell_type": "code",
   "source": "sorted_fruits=fruits.sort()\n",
   "id": "4d717bc89ce3d1f",
   "outputs": [],
   "execution_count": 31
  },
  {
   "metadata": {
    "ExecuteTime": {
     "end_time": "2024-11-17T16:55:54.987307Z",
     "start_time": "2024-11-17T16:55:54.978509Z"
    }
   },
   "cell_type": "code",
   "source": [
    "fruits.reverse()\n",
    "fruits"
   ],
   "id": "3b29ed2bbb594ddf",
   "outputs": [
    {
     "data": {
      "text/plain": [
       "['pair', 'pair', 'kiwi', 'cherry', 'apple', 'Watermelon']"
      ]
     },
     "execution_count": 32,
     "metadata": {},
     "output_type": "execute_result"
    }
   ],
   "execution_count": 32
  },
  {
   "metadata": {
    "ExecuteTime": {
     "end_time": "2024-11-17T16:56:19.651008Z",
     "start_time": "2024-11-17T16:56:19.645947Z"
    }
   },
   "cell_type": "code",
   "source": [
    "fruits.sort()\n",
    "fruits"
   ],
   "id": "f890f0935ed6dc5d",
   "outputs": [
    {
     "data": {
      "text/plain": [
       "['Watermelon', 'apple', 'cherry', 'kiwi', 'pair', 'pair']"
      ]
     },
     "execution_count": 33,
     "metadata": {},
     "output_type": "execute_result"
    }
   ],
   "execution_count": 33
  },
  {
   "metadata": {
    "ExecuteTime": {
     "end_time": "2024-11-17T16:57:51.446867Z",
     "start_time": "2024-11-17T16:57:51.442608Z"
    }
   },
   "cell_type": "code",
   "source": "fruits.clear() # Remove all items",
   "id": "89dc3bd97a57a9ef",
   "outputs": [],
   "execution_count": 36
  },
  {
   "metadata": {},
   "cell_type": "markdown",
   "source": "### Slicing Lists",
   "id": "13dcb85589e7d72e"
  },
  {
   "metadata": {
    "ExecuteTime": {
     "end_time": "2024-11-17T17:09:49.865068Z",
     "start_time": "2024-11-17T17:09:49.860491Z"
    }
   },
   "cell_type": "code",
   "source": [
    "numbers = [1, 2, 3, 4, 5, 6, 7, 8, 9, 10]\n",
    "print(numbers[2:5])\n",
    "print(numbers[:5])\n",
    "print(numbers[5:])\n",
    "print(numbers[::2])\n",
    "print(numbers[::-1])\n",
    "print(numbers[::-2])\n"
   ],
   "id": "eb7dd97e71c8d255",
   "outputs": [
    {
     "name": "stdout",
     "output_type": "stream",
     "text": [
      "[3, 4, 5]\n",
      "[1, 2, 3, 4, 5]\n",
      "[6, 7, 8, 9, 10]\n",
      "[1, 3, 5, 7, 9]\n",
      "[10, 9, 8, 7, 6, 5, 4, 3, 2, 1]\n",
      "[10, 8, 6, 4, 2]\n"
     ]
    }
   ],
   "execution_count": 42
  },
  {
   "metadata": {
    "ExecuteTime": {
     "end_time": "2024-11-17T17:15:07.387501Z",
     "start_time": "2024-11-17T17:15:07.383286Z"
    }
   },
   "cell_type": "code",
   "source": "print(numbers[::])",
   "id": "b9eb47106ea051a5",
   "outputs": [
    {
     "name": "stdout",
     "output_type": "stream",
     "text": [
      "[1, 2, 3, 4, 5, 6, 7, 8, 9, 10]\n"
     ]
    }
   ],
   "execution_count": 43
  },
  {
   "metadata": {},
   "cell_type": "markdown",
   "source": "### Iterate List Items",
   "id": "f9246b6508237ecf"
  },
  {
   "metadata": {
    "ExecuteTime": {
     "end_time": "2024-11-17T16:09:47.386507Z",
     "start_time": "2024-11-17T16:09:47.381761Z"
    }
   },
   "cell_type": "code",
   "outputs": [
    {
     "name": "stdout",
     "output_type": "stream",
     "text": [
      "apple\n",
      "banana\n",
      "cherry\n",
      "kiwi\n"
     ]
    }
   ],
   "execution_count": 6,
   "source": [
    "for number in numbers:\n",
    "    print(number)"
   ],
   "id": "d398e279140c5200"
  },
  {
   "metadata": {
    "ExecuteTime": {
     "end_time": "2024-11-17T17:20:15.606996Z",
     "start_time": "2024-11-17T17:20:15.601895Z"
    }
   },
   "cell_type": "code",
   "source": [
    "for index, number in enumerate(numbers):\n",
    "    print(index, number)"
   ],
   "id": "43f6969db00036df",
   "outputs": [
    {
     "name": "stdout",
     "output_type": "stream",
     "text": [
      "0 1\n",
      "1 2\n",
      "2 3\n",
      "3 4\n",
      "4 5\n",
      "5 6\n",
      "6 7\n",
      "7 8\n",
      "8 9\n",
      "9 10\n"
     ]
    }
   ],
   "execution_count": 44
  },
  {
   "metadata": {},
   "cell_type": "markdown",
   "source": "### List comprehension",
   "id": "eb9d38e595b4393c"
  },
  {
   "metadata": {
    "ExecuteTime": {
     "end_time": "2024-11-17T17:24:44.296570Z",
     "start_time": "2024-11-17T17:24:44.292167Z"
    }
   },
   "cell_type": "code",
   "source": [
    "list=[]\n",
    "for x in range(10):\n",
    "    list.append(x**2)\n",
    "    \n",
    "print(list)"
   ],
   "id": "b8e31a24bfd2b00f",
   "outputs": [
    {
     "name": "stdout",
     "output_type": "stream",
     "text": [
      "[0, 1, 4, 9, 16, 25, 36, 49, 64, 81]\n"
     ]
    }
   ],
   "execution_count": 45
  },
  {
   "metadata": {
    "ExecuteTime": {
     "end_time": "2024-11-17T17:26:41.483005Z",
     "start_time": "2024-11-17T17:26:41.477292Z"
    }
   },
   "cell_type": "code",
   "source": "[x**2 for x in range(10)]",
   "id": "c5460a8e104a9948",
   "outputs": [
    {
     "data": {
      "text/plain": [
       "[0, 1, 4, 9, 16, 25, 36, 49, 64, 81]"
      ]
     },
     "execution_count": 46,
     "metadata": {},
     "output_type": "execute_result"
    }
   ],
   "execution_count": 46
  },
  {
   "metadata": {},
   "cell_type": "markdown",
   "source": [
    "### List Comprehension\n",
    "\n",
    "Basic Syntax    [expression for the item in iterable]\n",
    "\n",
    "with conditional logic [expression for item in iterable if condition]\n",
    "\n",
    "Nested List Comprehension [expression for item1 in iterable1 for items2\n",
    "in iterable2]"
   ],
   "id": "75c0b6c0f9670f15"
  },
  {
   "metadata": {
    "ExecuteTime": {
     "end_time": "2024-11-17T17:31:14.684842Z",
     "start_time": "2024-11-17T17:31:14.680154Z"
    }
   },
   "cell_type": "code",
   "source": [
    "square=[num**2 for num in range(10)]\n",
    "print(square)"
   ],
   "id": "75027f21f86dcf7f",
   "outputs": [
    {
     "name": "stdout",
     "output_type": "stream",
     "text": [
      "[0, 1, 4, 9, 16, 25, 36, 49, 64, 81]\n"
     ]
    }
   ],
   "execution_count": 47
  },
  {
   "metadata": {
    "ExecuteTime": {
     "end_time": "2024-11-17T17:33:50.688012Z",
     "start_time": "2024-11-17T17:33:50.683680Z"
    }
   },
   "cell_type": "code",
   "source": [
    "list=[]\n",
    "for i in range(20):\n",
    "    if i % 2 == 0:\n",
    "        list.append(i)\n",
    "        \n",
    "print(list)"
   ],
   "id": "fd65803bc603e807",
   "outputs": [
    {
     "name": "stdout",
     "output_type": "stream",
     "text": [
      "[0, 2, 4, 6, 8, 10, 12, 14, 16, 18]\n"
     ]
    }
   ],
   "execution_count": 49
  },
  {
   "metadata": {
    "ExecuteTime": {
     "end_time": "2024-11-17T17:35:42.552476Z",
     "start_time": "2024-11-17T17:35:42.547184Z"
    }
   },
   "cell_type": "code",
   "source": [
    "even_numbers=[num for num in range(20) if num%2==0]\n",
    "print(even_numbers)"
   ],
   "id": "9a5bd7695ca1e352",
   "outputs": [
    {
     "name": "stdout",
     "output_type": "stream",
     "text": [
      "[0, 2, 4, 6, 8, 10, 12, 14, 16, 18]\n"
     ]
    }
   ],
   "execution_count": 50
  },
  {
   "metadata": {
    "ExecuteTime": {
     "end_time": "2024-11-17T17:42:38.867213Z",
     "start_time": "2024-11-17T17:42:38.861837Z"
    }
   },
   "cell_type": "code",
   "source": [
    "list1=[1, 2, 3, 4]\n",
    "list2=['a','b','c', 'd']\n",
    "\n",
    "pair=[[i,j] for i in list1 for j in list2]\n",
    "print(pair)"
   ],
   "id": "4317852b26334726",
   "outputs": [
    {
     "name": "stdout",
     "output_type": "stream",
     "text": [
      "[[1, 'a'], [1, 'b'], [1, 'c'], [1, 'd'], [2, 'a'], [2, 'b'], [2, 'c'], [2, 'd'], [3, 'a'], [3, 'b'], [3, 'c'], [3, 'd'], [4, 'a'], [4, 'b'], [4, 'c'], [4, 'd']]\n"
     ]
    }
   ],
   "execution_count": 53
  },
  {
   "metadata": {},
   "cell_type": "markdown",
   "source": "### List comprehension with function calls",
   "id": "f5d4a354eaf32885"
  },
  {
   "metadata": {
    "ExecuteTime": {
     "end_time": "2024-11-17T17:45:56.906056Z",
     "start_time": "2024-11-17T17:45:56.900993Z"
    }
   },
   "cell_type": "code",
   "source": [
    "words = [\"hello\", \"world\", \"python\", \"list\", \"comprehension\"]\n",
    "lengths = [len(x) for x in words]\n",
    "print(lengths)"
   ],
   "id": "3398993977499a53",
   "outputs": [
    {
     "name": "stdout",
     "output_type": "stream",
     "text": [
      "[5, 5, 6, 4, 13]\n"
     ]
    }
   ],
   "execution_count": 54
  }
 ],
 "metadata": {
  "kernelspec": {
   "display_name": "Python 3",
   "language": "python",
   "name": "python3"
  },
  "language_info": {
   "codemirror_mode": {
    "name": "ipython",
    "version": 2
   },
   "file_extension": ".py",
   "mimetype": "text/x-python",
   "name": "python",
   "nbconvert_exporter": "python",
   "pygments_lexer": "ipython2",
   "version": "2.7.6"
  }
 },
 "nbformat": 4,
 "nbformat_minor": 5
}
